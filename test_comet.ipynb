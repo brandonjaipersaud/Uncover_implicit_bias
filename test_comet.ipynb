{
 "cells": [
  {
   "cell_type": "code",
   "execution_count": 1,
   "metadata": {},
   "outputs": [],
   "source": [
    "from comet2.comet_model import PretrainedCometModel\n",
    "import pickle\n",
    "import random"
   ]
  },
  {
   "cell_type": "code",
   "execution_count": 2,
   "metadata": {},
   "outputs": [
    {
     "name": "stderr",
     "output_type": "stream",
     "text": [
      "/h/brandon/.local/lib/python3.9/site-packages/transformers/models/auto/modeling_auto.py:969: FutureWarning: The class `AutoModelWithLMHead` is deprecated and will be removed in a future version. Please use `AutoModelForCausalLM` for causal language models, `AutoModelForMaskedLM` for masked language models and `AutoModelForSeq2SeqLM` for encoder-decoder models.\n",
      "  warnings.warn(\n"
     ]
    }
   ],
   "source": [
    "comet_model = PretrainedCometModel(device=0)"
   ]
  },
  {
   "cell_type": "code",
   "execution_count": 4,
   "metadata": {},
   "outputs": [
    {
     "name": "stdout",
     "output_type": "stream",
     "text": [
      "ProtagonistA was taking a walk around the park one day . Suddenly , ProtagonistA saw ProtagonistB smoking in the street . ProtagonistA called the cops on ProtagonistB . The cops arrested ProtagonistB for smoking . ProtagonistB will be subject to a fine .\n"
     ]
    }
   ],
   "source": [
    "sample = \"ProtagonistA was taking a walk around the park one day . Suddenly , ProtagonistA saw ProtagonistB smoking in the street . ProtagonistA called the cops on ProtagonistB . The cops arrested ProtagonistB for smoking . ProtagonistB will be subject to a fine .\"\n",
    "print(sample)"
   ]
  },
  {
   "cell_type": "code",
   "execution_count": 32,
   "metadata": {},
   "outputs": [],
   "source": [
    "sample1 = \"ProtagonistA is a police officer. ProtagonistA asked ProtagonistB if they were smoking. ProtagonistB said yes.\"\n",
    "sample2 = \"ProtagonistB said yes.\""
   ]
  },
  {
   "cell_type": "code",
   "execution_count": 47,
   "metadata": {},
   "outputs": [],
   "source": [
    "sample1 = \"ProtagonistA gave ProtagonistB a cupcake. ProtagonistB did not know that ProtagonistA put poison in the cupcake.\"\n",
    "sample2 = \"ProtagonistA gave ProtagonistB a cupcake.\""
   ]
  },
  {
   "cell_type": "markdown",
   "metadata": {},
   "source": [
    "PA has malicious intentions which can only be inferred from seeing both sentences."
   ]
  },
  {
   "cell_type": "code",
   "execution_count": 48,
   "metadata": {},
   "outputs": [],
   "source": [
    "inference = comet_model.predict(sample1, \"xIntent\", num_beams=5)"
   ]
  },
  {
   "cell_type": "code",
   "execution_count": 30,
   "metadata": {},
   "outputs": [
    {
     "data": {
      "text/plain": [
       "{'oEffect',\n",
       " 'oReact',\n",
       " 'oWant',\n",
       " 'xAttr',\n",
       " 'xEffect',\n",
       " 'xIntent',\n",
       " 'xNeed',\n",
       " 'xReact',\n",
       " 'xWant'}"
      ]
     },
     "execution_count": 30,
     "metadata": {},
     "output_type": "execute_result"
    }
   ],
   "source": [
    "comet_model.categories"
   ]
  },
  {
   "cell_type": "code",
   "execution_count": 49,
   "metadata": {},
   "outputs": [
    {
     "data": {
      "text/plain": [
       "['to eat the cupcake',\n",
       " 'to eat the cake',\n",
       " 'none',\n",
       " 'to get rid of it',\n",
       " 'to get rid of the poison']"
      ]
     },
     "execution_count": 49,
     "metadata": {},
     "output_type": "execute_result"
    }
   ],
   "source": [
    "inference"
   ]
  }
 ],
 "metadata": {
  "kernelspec": {
   "display_name": "Python 3",
   "language": "python",
   "name": "python3"
  },
  "language_info": {
   "codemirror_mode": {
    "name": "ipython",
    "version": 3
   },
   "file_extension": ".py",
   "mimetype": "text/x-python",
   "name": "python",
   "nbconvert_exporter": "python",
   "pygments_lexer": "ipython3",
   "version": "3.9.10"
  }
 },
 "nbformat": 4,
 "nbformat_minor": 2
}
